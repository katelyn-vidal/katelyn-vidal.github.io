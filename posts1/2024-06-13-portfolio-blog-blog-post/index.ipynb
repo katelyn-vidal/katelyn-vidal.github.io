{
  "cells": [
    {
      "cell_type": "raw",
      "metadata": {},
      "source": [
        "---\n",
        "title: \"ENV S 149 Food, Agriculture, and the Environment\"\n",
        "description: \"a blog post about filipino food & agriculture and colonialism\"\n",
        "author:\n",
        "  - name: Katelyn Vidal\n",
        "    url: https://katelyn-vidal.github.io/\n",
        "date: 06-13-2024\n",
        "categories: [Blogs] # self-defined categories\n",
        "citation: \n",
        "  url: https://katelyn-vidal.github.io/posts/2024-06-13-portfolio-blog-blog-post/ \n",
        "image: food.png\n",
        "cv:\n",
        "  pdf: \"ES149_Final_Project_.pdf\"\n",
        "draft: false \n",
        "---"
      ],
      "id": "f98db11b"
    },
    {
      "cell_type": "markdown",
      "metadata": {},
      "source": [
        "```{css, echo=FALSE}\n",
        "#title-block-header .description {\n",
        "    display: none;\n",
        "}\n",
        "```\n",
        "\n",
        "```{css echo=FALSE}\n",
        ".embed-container {\n",
        "    position: relative;\n",
        "    padding-bottom: 129%;\n",
        "    height: 0;\n",
        "    overflow: hidden;\n",
        "    max-width: 100%;\n",
        "}\n",
        "\n",
        ".embed-container iframe,\n",
        ".embed-container object,\n",
        ".embed-container embed {\n",
        "    position: absolute;\n",
        "    top: 0;\n",
        "    left: 0;\n",
        "    width: 100%;\n",
        "    height: 100%;\n",
        "}\n",
        "```\n",
        "\n",
        "\n",
        "# Abstract\n",
        "\n",
        "This blog post explores the history of Spanish colonialism in the Philippines and how this has impacted Filipino food and agriculture, along with the subsequent Westernization of Filipino cuisine and how this connects to increased health risks prevalent in Filipino communities in the US."
      ],
      "id": "6f9badd1"
    }
  ],
  "metadata": {
    "kernelspec": {
      "display_name": "Python 3",
      "language": "python",
      "name": "python3"
    }
  },
  "nbformat": 4,
  "nbformat_minor": 5
}